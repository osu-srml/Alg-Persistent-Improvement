{
 "cells": [
  {
   "cell_type": "code",
   "execution_count": 1,
   "id": "7cebc479",
   "metadata": {},
   "outputs": [],
   "source": [
    "import warnings\n",
    "warnings.filterwarnings('ignore')\n",
    "import numpy as np\n",
    "import pandas as pd\n",
    "import scipy\n",
    "from matplotlib import pyplot as plt\n",
    "plt.style.use('seaborn-paper')"
   ]
  },
  {
   "cell_type": "markdown",
   "id": "7c098b17",
   "metadata": {},
   "source": [
    "### Preprocessing\n",
    "\n",
    "1. Read the data\n",
    "\n",
    "2. Calculate normalized qualification score: (math+reading+writng)/300"
   ]
  },
  {
   "cell_type": "code",
   "execution_count": 2,
   "id": "e7c17ede",
   "metadata": {},
   "outputs": [],
   "source": [
    "Exams = pd.read_csv('exams.csv')\n",
    "Exams = Exams[Exams['gender'] == 'male']"
   ]
  },
  {
   "cell_type": "code",
   "execution_count": 3,
   "id": "bf511132",
   "metadata": {},
   "outputs": [],
   "source": [
    "Exams['Qscore'] = (Exams['math score'] + Exams['reading score'] + Exams['writing score'])/300"
   ]
  },
  {
   "cell_type": "code",
   "execution_count": 4,
   "id": "e16ba925",
   "metadata": {},
   "outputs": [
    {
     "data": {
      "text/html": [
       "<div>\n",
       "<style scoped>\n",
       "    .dataframe tbody tr th:only-of-type {\n",
       "        vertical-align: middle;\n",
       "    }\n",
       "\n",
       "    .dataframe tbody tr th {\n",
       "        vertical-align: top;\n",
       "    }\n",
       "\n",
       "    .dataframe thead th {\n",
       "        text-align: right;\n",
       "    }\n",
       "</style>\n",
       "<table border=\"1\" class=\"dataframe\">\n",
       "  <thead>\n",
       "    <tr style=\"text-align: right;\">\n",
       "      <th></th>\n",
       "      <th>gender</th>\n",
       "      <th>race/ethnicity</th>\n",
       "      <th>parental level of education</th>\n",
       "      <th>lunch</th>\n",
       "      <th>test preparation course</th>\n",
       "      <th>math score</th>\n",
       "      <th>reading score</th>\n",
       "      <th>writing score</th>\n",
       "      <th>Qscore</th>\n",
       "    </tr>\n",
       "  </thead>\n",
       "  <tbody>\n",
       "    <tr>\n",
       "      <th>0</th>\n",
       "      <td>male</td>\n",
       "      <td>group A</td>\n",
       "      <td>high school</td>\n",
       "      <td>standard</td>\n",
       "      <td>completed</td>\n",
       "      <td>67</td>\n",
       "      <td>67</td>\n",
       "      <td>63</td>\n",
       "      <td>0.656667</td>\n",
       "    </tr>\n",
       "    <tr>\n",
       "      <th>2</th>\n",
       "      <td>male</td>\n",
       "      <td>group E</td>\n",
       "      <td>some college</td>\n",
       "      <td>free/reduced</td>\n",
       "      <td>none</td>\n",
       "      <td>59</td>\n",
       "      <td>60</td>\n",
       "      <td>50</td>\n",
       "      <td>0.563333</td>\n",
       "    </tr>\n",
       "    <tr>\n",
       "      <th>3</th>\n",
       "      <td>male</td>\n",
       "      <td>group B</td>\n",
       "      <td>high school</td>\n",
       "      <td>standard</td>\n",
       "      <td>none</td>\n",
       "      <td>77</td>\n",
       "      <td>78</td>\n",
       "      <td>68</td>\n",
       "      <td>0.743333</td>\n",
       "    </tr>\n",
       "    <tr>\n",
       "      <th>4</th>\n",
       "      <td>male</td>\n",
       "      <td>group E</td>\n",
       "      <td>associate's degree</td>\n",
       "      <td>standard</td>\n",
       "      <td>completed</td>\n",
       "      <td>78</td>\n",
       "      <td>73</td>\n",
       "      <td>68</td>\n",
       "      <td>0.730000</td>\n",
       "    </tr>\n",
       "    <tr>\n",
       "      <th>7</th>\n",
       "      <td>male</td>\n",
       "      <td>group E</td>\n",
       "      <td>some college</td>\n",
       "      <td>standard</td>\n",
       "      <td>completed</td>\n",
       "      <td>93</td>\n",
       "      <td>88</td>\n",
       "      <td>84</td>\n",
       "      <td>0.883333</td>\n",
       "    </tr>\n",
       "    <tr>\n",
       "      <th>...</th>\n",
       "      <td>...</td>\n",
       "      <td>...</td>\n",
       "      <td>...</td>\n",
       "      <td>...</td>\n",
       "      <td>...</td>\n",
       "      <td>...</td>\n",
       "      <td>...</td>\n",
       "      <td>...</td>\n",
       "      <td>...</td>\n",
       "    </tr>\n",
       "    <tr>\n",
       "      <th>992</th>\n",
       "      <td>male</td>\n",
       "      <td>group C</td>\n",
       "      <td>some college</td>\n",
       "      <td>standard</td>\n",
       "      <td>none</td>\n",
       "      <td>69</td>\n",
       "      <td>63</td>\n",
       "      <td>66</td>\n",
       "      <td>0.660000</td>\n",
       "    </tr>\n",
       "    <tr>\n",
       "      <th>994</th>\n",
       "      <td>male</td>\n",
       "      <td>group E</td>\n",
       "      <td>high school</td>\n",
       "      <td>free/reduced</td>\n",
       "      <td>completed</td>\n",
       "      <td>86</td>\n",
       "      <td>82</td>\n",
       "      <td>75</td>\n",
       "      <td>0.810000</td>\n",
       "    </tr>\n",
       "    <tr>\n",
       "      <th>995</th>\n",
       "      <td>male</td>\n",
       "      <td>group C</td>\n",
       "      <td>high school</td>\n",
       "      <td>standard</td>\n",
       "      <td>none</td>\n",
       "      <td>73</td>\n",
       "      <td>70</td>\n",
       "      <td>65</td>\n",
       "      <td>0.693333</td>\n",
       "    </tr>\n",
       "    <tr>\n",
       "      <th>996</th>\n",
       "      <td>male</td>\n",
       "      <td>group D</td>\n",
       "      <td>associate's degree</td>\n",
       "      <td>free/reduced</td>\n",
       "      <td>completed</td>\n",
       "      <td>85</td>\n",
       "      <td>91</td>\n",
       "      <td>92</td>\n",
       "      <td>0.893333</td>\n",
       "    </tr>\n",
       "    <tr>\n",
       "      <th>999</th>\n",
       "      <td>male</td>\n",
       "      <td>group A</td>\n",
       "      <td>some college</td>\n",
       "      <td>standard</td>\n",
       "      <td>completed</td>\n",
       "      <td>65</td>\n",
       "      <td>60</td>\n",
       "      <td>62</td>\n",
       "      <td>0.623333</td>\n",
       "    </tr>\n",
       "  </tbody>\n",
       "</table>\n",
       "<p>517 rows × 9 columns</p>\n",
       "</div>"
      ],
      "text/plain": [
       "    gender race/ethnicity parental level of education         lunch  \\\n",
       "0     male        group A                 high school      standard   \n",
       "2     male        group E                some college  free/reduced   \n",
       "3     male        group B                 high school      standard   \n",
       "4     male        group E          associate's degree      standard   \n",
       "7     male        group E                some college      standard   \n",
       "..     ...            ...                         ...           ...   \n",
       "992   male        group C                some college      standard   \n",
       "994   male        group E                 high school  free/reduced   \n",
       "995   male        group C                 high school      standard   \n",
       "996   male        group D          associate's degree  free/reduced   \n",
       "999   male        group A                some college      standard   \n",
       "\n",
       "    test preparation course  math score  reading score  writing score  \\\n",
       "0                 completed          67             67             63   \n",
       "2                      none          59             60             50   \n",
       "3                      none          77             78             68   \n",
       "4                 completed          78             73             68   \n",
       "7                 completed          93             88             84   \n",
       "..                      ...         ...            ...            ...   \n",
       "992                    none          69             63             66   \n",
       "994               completed          86             82             75   \n",
       "995                    none          73             70             65   \n",
       "996               completed          85             91             92   \n",
       "999               completed          65             60             62   \n",
       "\n",
       "       Qscore  \n",
       "0    0.656667  \n",
       "2    0.563333  \n",
       "3    0.743333  \n",
       "4    0.730000  \n",
       "7    0.883333  \n",
       "..        ...  \n",
       "992  0.660000  \n",
       "994  0.810000  \n",
       "995  0.693333  \n",
       "996  0.893333  \n",
       "999  0.623333  \n",
       "\n",
       "[517 rows x 9 columns]"
      ]
     },
     "execution_count": 4,
     "metadata": {},
     "output_type": "execute_result"
    }
   ],
   "source": [
    "Exams"
   ]
  },
  {
   "cell_type": "markdown",
   "id": "7f2b95bd",
   "metadata": {},
   "source": [
    "### Fit the distribution\n",
    "\n",
    "We try to fit the qualification score by a beta distribution\n",
    "\n",
    "Because the maximum of Qscore is 1.0, we fix loc = 0 and scale = 1+1e-8 (slightly larger than 1.0) to avoid error"
   ]
  },
  {
   "cell_type": "code",
   "execution_count": 5,
   "id": "8c374975",
   "metadata": {},
   "outputs": [],
   "source": [
    "import scipy.integrate as integrate\n",
    "from scipy.stats import uniform, beta\n",
    "Qscore = Exams['Qscore']\n",
    "a, b, loc, scale = beta.fit(Qscore, floc = 0 ,fscale = 1+1e-8)"
   ]
  },
  {
   "cell_type": "code",
   "execution_count": 6,
   "id": "b639b384",
   "metadata": {},
   "outputs": [
    {
     "data": {
      "text/plain": [
       "(4.864021228209696, 2.365628260721473, 0, 1.00000001)"
      ]
     },
     "execution_count": 6,
     "metadata": {},
     "output_type": "execute_result"
    }
   ],
   "source": [
    "a,b,loc,scale"
   ]
  },
  {
   "cell_type": "code",
   "execution_count": 7,
   "id": "144bc196",
   "metadata": {
    "scrolled": false
   },
   "outputs": [
    {
     "data": {
      "image/png": "[encoded data removed]",
      "text/plain": [
       "<Figure size 700x500 with 1 Axes>"
      ]
     },
     "metadata": {},
     "output_type": "display_data"
    }
   ],
   "source": [
    "# Visualize the distribution\n",
    "x = np.linspace(0,1,1000)\n",
    "plt.figure(figsize = (7,5))\n",
    "plt.plot(x, beta.pdf(x, a, b, loc, scale),\n",
    "       'r-', lw=3, alpha=0.6, label = 'fitted')\n",
    "plt.hist(Qscore, label = 'actual score',density=True)\n",
    "plt.title('qualification score distribution')\n",
    "plt.xlabel('Score', fontsize = 12)\n",
    "plt.xticks(fontsize = 12)\n",
    "plt.yticks(fontsize = 12)\n",
    "plt.legend()\n",
    "plt.savefig('score_exam_male.pdf')"
   ]
  },
  {
   "cell_type": "markdown",
   "id": "d7d229fd",
   "metadata": {},
   "source": [
    "###  Decision Maker to incentivize improvement"
   ]
  },
  {
   "cell_type": "code",
   "execution_count": 8,
   "id": "f1052c41",
   "metadata": {},
   "outputs": [],
   "source": [
    "threshold = 0.316364\n",
    "def compute_decision_benefit_strategic(r, theta):\n",
    "    # lower bound for improvement to begin\n",
    "    if theta == 0 or theta == 1:\n",
    "        xstar = theta\n",
    "    else:\n",
    "        xstar = (1 + (1/theta**(2)-1) * np.exp(2*threshold/np.log(1+r)))**(-0.5)\n",
    "\n",
    "    result = integrate.quad(lambda x: (theta-x)*beta.pdf(x,a,b,loc,scale), xstar, theta)[0]\n",
    "    return result\n",
    "\n",
    "def maximize_one_decision_benefit_strategic(r):\n",
    "    theta = np.linspace(0.0001,1,10000)\n",
    "    myFn = np.vectorize(compute_decision_benefit_strategic, excluded=['r'])\n",
    "    benefit = myFn(r,theta)\n",
    "    df = pd.DataFrame({'theta':theta, 'benefit':benefit})\n",
    "    max_benefit = df.max()['benefit']\n",
    "    max_theta = df[df['benefit'] == max_benefit]['theta'].item()\n",
    "    min_improve = (1 + (1/max_theta**(2)-1) * np.exp(2*threshold/np.log(1+r)))**(-0.5)\n",
    "    max_percentage = 1-beta.cdf(min_improve,a,b,loc,scale)\n",
    "    print('Strategic threshold is %f and the max benefit is %f' %(max_theta, max_benefit))\n",
    "    print('Finally, qualified population percentage will be: %.2f%%' % (100*max_percentage))\n",
    "#     return max_theta, max_benefit"
   ]
  },
  {
   "cell_type": "code",
   "execution_count": 31,
   "id": "7460709a",
   "metadata": {},
   "outputs": [
    {
     "name": "stdout",
     "output_type": "stream",
     "text": [
      "Strategic threshold is 0.873600 and the max benefit is 0.141997\n",
      "Finally, qualified population percentage will be: 87.17%\n"
     ]
    }
   ],
   "source": [
    "maximize_one_decision_benefit_strategic(0.3)"
   ]
  },
  {
   "cell_type": "markdown",
   "id": "d0b2863a",
   "metadata": {},
   "source": [
    "**This means when considering improvement, the decision maker can have both higher threshold and higher maximum utility**"
   ]
  },
  {
   "cell_type": "markdown",
   "id": "e0123c28",
   "metadata": {},
   "source": [
    "### Varying r and ploting:\n",
    "\n",
    "1. the optimal strategic threshold\n",
    "\n",
    "2. the total improvement amount\n",
    "\n",
    "It is reasonable to varying r from 0 to 0.3 to see the threshold change"
   ]
  },
  {
   "cell_type": "code",
   "execution_count": 9,
   "id": "d4426763",
   "metadata": {},
   "outputs": [],
   "source": [
    "def produce_threshold_dataframe(r_list, maximize_func):\n",
    "    best_threshold = {'r':[],'optimal theta':[],'qualified percentage':[],'optimal utility':[]}\n",
    "    for r in r_list:\n",
    "        theta = np.linspace(0.0001,1,10000)\n",
    "        benefit = maximize_func(r,theta)\n",
    "        df = pd.DataFrame({'theta':theta, 'benefit':benefit})\n",
    "        max_benefit = df.max()['benefit']\n",
    "        max_theta = df[df['benefit'] == max_benefit]['theta'].item()\n",
    "        min_improve = (1 + (1/max_theta**(2)-1) * np.exp(2*threshold/np.log(1+r)))**(-0.5)\n",
    "        max_percentage = 1-beta.cdf(min_improve,a,b,loc,scale)\n",
    "        best_threshold['r'].append(r)\n",
    "        best_threshold['optimal theta'].append(max_theta)\n",
    "        best_threshold['qualified percentage'].append(np.round(100*max_percentage, 4))\n",
    "        best_threshold['optimal utility'].append(max_benefit)\n",
    "    return pd.DataFrame(best_threshold)"
   ]
  },
  {
   "cell_type": "code",
   "execution_count": 10,
   "id": "d7ca3552",
   "metadata": {},
   "outputs": [],
   "source": [
    "r_list = np.linspace(0,0.3,7)\n",
    "r_list = r_list[1:]\n",
    "maximize_func = np.vectorize(compute_decision_benefit_strategic, excluded=['r'])\n",
    "exam_res = produce_threshold_dataframe(r_list, maximize_func)"
   ]
  },
  {
   "cell_type": "code",
   "execution_count": 11,
   "id": "379c1310",
   "metadata": {},
   "outputs": [
    {
     "data": {
      "text/html": [
       "<div>\n",
       "<style scoped>\n",
       "    .dataframe tbody tr th:only-of-type {\n",
       "        vertical-align: middle;\n",
       "    }\n",
       "\n",
       "    .dataframe tbody tr th {\n",
       "        vertical-align: top;\n",
       "    }\n",
       "\n",
       "    .dataframe thead th {\n",
       "        text-align: right;\n",
       "    }\n",
       "</style>\n",
       "<table border=\"1\" class=\"dataframe\">\n",
       "  <thead>\n",
       "    <tr style=\"text-align: right;\">\n",
       "      <th></th>\n",
       "      <th>r</th>\n",
       "      <th>optimal theta</th>\n",
       "      <th>qualified percentage</th>\n",
       "      <th>optimal utility</th>\n",
       "    </tr>\n",
       "  </thead>\n",
       "  <tbody>\n",
       "    <tr>\n",
       "      <th>0</th>\n",
       "      <td>0.05</td>\n",
       "      <td>0.9998</td>\n",
       "      <td>99.9968</td>\n",
       "      <td>0.326982</td>\n",
       "    </tr>\n",
       "    <tr>\n",
       "      <th>1</th>\n",
       "      <td>0.10</td>\n",
       "      <td>0.9892</td>\n",
       "      <td>99.3501</td>\n",
       "      <td>0.311250</td>\n",
       "    </tr>\n",
       "    <tr>\n",
       "      <th>2</th>\n",
       "      <td>0.15</td>\n",
       "      <td>0.9598</td>\n",
       "      <td>96.9846</td>\n",
       "      <td>0.266424</td>\n",
       "    </tr>\n",
       "    <tr>\n",
       "      <th>3</th>\n",
       "      <td>0.20</td>\n",
       "      <td>0.9267</td>\n",
       "      <td>93.6491</td>\n",
       "      <td>0.216396</td>\n",
       "    </tr>\n",
       "    <tr>\n",
       "      <th>4</th>\n",
       "      <td>0.25</td>\n",
       "      <td>0.8976</td>\n",
       "      <td>90.2447</td>\n",
       "      <td>0.174383</td>\n",
       "    </tr>\n",
       "    <tr>\n",
       "      <th>5</th>\n",
       "      <td>0.30</td>\n",
       "      <td>0.8736</td>\n",
       "      <td>87.1685</td>\n",
       "      <td>0.141997</td>\n",
       "    </tr>\n",
       "  </tbody>\n",
       "</table>\n",
       "</div>"
      ],
      "text/plain": [
       "      r  optimal theta  qualified percentage  optimal utility\n",
       "0  0.05         0.9998               99.9968         0.326982\n",
       "1  0.10         0.9892               99.3501         0.311250\n",
       "2  0.15         0.9598               96.9846         0.266424\n",
       "3  0.20         0.9267               93.6491         0.216396\n",
       "4  0.25         0.8976               90.2447         0.174383\n",
       "5  0.30         0.8736               87.1685         0.141997"
      ]
     },
     "execution_count": 11,
     "metadata": {},
     "output_type": "execute_result"
    }
   ],
   "source": [
    "exam_res.to_csv('exam_male.csv')\n",
    "exam_res"
   ]
  },
  {
   "cell_type": "code",
   "execution_count": 13,
   "id": "4a8e97f9",
   "metadata": {},
   "outputs": [
    {
     "data": {
      "image/png": "[encoded data removed]",
      "text/plain": [
       "<Figure size 300x250 with 1 Axes>"
      ]
     },
     "metadata": {},
     "output_type": "display_data"
    }
   ],
   "source": [
    "import matplotlib\n",
    "matplotlib.rcParams.update({'font.size': 20.7})\n",
    "fig, axes = plt.subplots(1, 1, figsize = (3,2.5))\n",
    "plt.tight_layout\n",
    "plt.plot(exam_res['r'], exam_res['optimal theta'], marker='o', label = r'$\\theta^*$')\n",
    "plt.plot(exam_res['r'], exam_res['optimal utility'], marker = 's', label = 'total improvement')\n",
    "plt.xlabel('r')\n",
    "plt.ylabel('Threshold (or Improvement)')\n",
    "plt.legend()\n",
    "plt.tight_layout()\n",
    "fig.savefig('threshold_exam_male.pdf')"
   ]
  },
  {
   "cell_type": "markdown",
   "id": "2674bd55",
   "metadata": {},
   "source": [
    "### Plot the percentage of population who manipulates under the strategic optimal threshold"
   ]
  },
  {
   "cell_type": "code",
   "execution_count": 14,
   "id": "2f27c097",
   "metadata": {},
   "outputs": [],
   "source": [
    "def get_manipulation_percentage(theta_list, r_list, prob = [0.1,0.2,0.3,0.4,0.5]):\n",
    "    final_res = {}\n",
    "    violate = False\n",
    "    for p in prob:\n",
    "        manip_res = {'r':[],'optimal theta':[],'manipulation percentage':[]}\n",
    "        for i in range(len(theta_list)):\n",
    "            theta = theta_list[i]\n",
    "            r = r_list[i]\n",
    "            x = np.linspace(0,theta,1000)\n",
    "            A = -np.log(np.sqrt((1/theta**2-1)/(1/x**2-1)))*np.log(1+r)\n",
    "            T = -np.log(np.sqrt((1/theta**2-1)/(1/x**2-1)))/np.log(2)\n",
    "            manip_res['r'].append(np.round(r,2))\n",
    "            manip_res['optimal theta'].append(np.round(theta,2))\n",
    "            y1 = (1-p) * 1/(1+r)**T - (theta - x)\n",
    "            y2 = np.zeros(1000)\n",
    "            i = 0\n",
    "            for A_value in A:\n",
    "                func = lambda tau: -np.exp(-A_value/tau) + np.exp(tau) - 1\n",
    "                res = scipy.optimize.minimize_scalar(func, bounds= [0,1], method='bounded')\n",
    "                y2[i] = max(-func(res.x),0)\n",
    "                i += 1\n",
    "            df = pd.DataFrame({'x0': x, 'net': y1-y2})\n",
    "            if(len(df[df['net'] >= 0]) == 0):\n",
    "                manip_res['manipulation percentage'].append(0)\n",
    "            else:\n",
    "                target_df = df[df['net']>0]\n",
    "                i = 0\n",
    "                percentage = 0\n",
    "                left = target_df.iloc[0]['x0'] \n",
    "                while i < len(target_df):\n",
    "                    if i == len(target_df) - 1 or target_df.iloc[i+1]['x0'] - target_df.iloc[i]['x0'] > theta/900:\n",
    "                        right = target_df.iloc[i]['x0']\n",
    "                        percentage += (beta.cdf(right,a,b,loc,scale) - beta.cdf(left,a,b,loc,scale))/(beta.cdf(theta,a,b,loc,scale))\n",
    "                        if i != len(target_df) - 1:\n",
    "                            violate = True\n",
    "                            left = target_df.iloc[i+1]['x0']\n",
    "                    i += 1\n",
    "                manip_res['manipulation percentage'].append(np.round(100*percentage,4))\n",
    "        if p not in final_res.keys():\n",
    "            final_res[p] = manip_res\n",
    "        if violate == True:\n",
    "            print('theta = %f does not exceed theta bar' %(theta))\n",
    "    return final_res\n"
   ]
  },
  {
   "cell_type": "code",
   "execution_count": 34,
   "id": "08c278d2",
   "metadata": {},
   "outputs": [],
   "source": [
    "theta_list = exam_res['optimal theta']\n",
    "r_list = exam_res['r']\n",
    "manip_result = get_manipulation_percentage(theta_list, r_list, prob = [0.1,0.3,0.4,0.6])"
   ]
  },
  {
   "cell_type": "code",
   "execution_count": 36,
   "id": "24645c51",
   "metadata": {},
   "outputs": [
    {
     "data": {
      "image/png": "[encoded data removed]",
      "text/plain": [
       "<Figure size 300x250 with 1 Axes>"
      ]
     },
     "metadata": {},
     "output_type": "display_data"
    }
   ],
   "source": [
    "plt.figure(figsize=(3,2.5))\n",
    "prob = [0.1,0.3,0.4,0.6]\n",
    "color = ['#1f77b4', '#ff7f0e', '#046a38', '#d62728', '#9467bd']\n",
    "i = 0\n",
    "for p in prob:\n",
    "    target1 = manip_result[p]\n",
    "    plt.plot(target1['r'], target1['manipulation percentage'], marker='o', label = 'p = %.2f'%p, color = color[i])\n",
    "    plt.xlabel(r'$r$')\n",
    "    plt.ylabel('Percentage(%)')\n",
    "    plt.legend()\n",
    "    i += 1\n",
    "plt.tight_layout()\n",
    "plt.savefig('manipulation_percent_exam_male.pdf')"
   ]
  }
 ],
 "metadata": {
  "kernelspec": {
   "display_name": "Python 3 (ipykernel)",
   "language": "python",
   "name": "python3"
  },
  "language_info": {
   "codemirror_mode": {
    "name": "ipython",
    "version": 3
   },
   "file_extension": ".py",
   "mimetype": "text/x-python",
   "name": "python",
   "nbconvert_exporter": "python",
   "pygments_lexer": "ipython3",
   "version": "3.9.13"
  }
 },
 "nbformat": 4,
 "nbformat_minor": 5
}
