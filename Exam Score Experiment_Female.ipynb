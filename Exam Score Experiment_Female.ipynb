{
 "cells": [
  {
   "cell_type": "code",
   "execution_count": 1,
   "id": "7cebc479",
   "metadata": {},
   "outputs": [],
   "source": [
    "import warnings\n",
    "warnings.filterwarnings('ignore')\n",
    "import numpy as np\n",
    "import pandas as pd\n",
    "import scipy\n",
    "from matplotlib import pyplot as plt\n",
    "plt.style.use('seaborn-paper')"
   ]
  },
  {
   "cell_type": "markdown",
   "id": "7c098b17",
   "metadata": {},
   "source": [
    "### Preprocessing\n",
    "\n",
    "1. Read the data\n",
    "\n",
    "2. Calculate normalized qualification score: (math+reading+writng)/300"
   ]
  },
  {
   "cell_type": "code",
   "execution_count": 2,
   "id": "e7c17ede",
   "metadata": {},
   "outputs": [],
   "source": [
    "Exams = pd.read_csv('exams.csv')\n",
    "Exams = Exams[Exams['gender'] == 'female']"
   ]
  },
  {
   "cell_type": "code",
   "execution_count": 3,
   "id": "bf511132",
   "metadata": {},
   "outputs": [],
   "source": [
    "Exams['Qscore'] = (Exams['math score'] + Exams['reading score'] + Exams['writing score'])/300"
   ]
  },
  {
   "cell_type": "code",
   "execution_count": 4,
   "id": "baa95ebf",
   "metadata": {},
   "outputs": [
    {
     "data": {
      "text/html": [
       "<div>\n",
       "<style scoped>\n",
       "    .dataframe tbody tr th:only-of-type {\n",
       "        vertical-align: middle;\n",
       "    }\n",
       "\n",
       "    .dataframe tbody tr th {\n",
       "        vertical-align: top;\n",
       "    }\n",
       "\n",
       "    .dataframe thead th {\n",
       "        text-align: right;\n",
       "    }\n",
       "</style>\n",
       "<table border=\"1\" class=\"dataframe\">\n",
       "  <thead>\n",
       "    <tr style=\"text-align: right;\">\n",
       "      <th></th>\n",
       "      <th>gender</th>\n",
       "      <th>race/ethnicity</th>\n",
       "      <th>parental level of education</th>\n",
       "      <th>lunch</th>\n",
       "      <th>test preparation course</th>\n",
       "      <th>math score</th>\n",
       "      <th>reading score</th>\n",
       "      <th>writing score</th>\n",
       "      <th>Qscore</th>\n",
       "    </tr>\n",
       "  </thead>\n",
       "  <tbody>\n",
       "    <tr>\n",
       "      <th>1</th>\n",
       "      <td>female</td>\n",
       "      <td>group D</td>\n",
       "      <td>some high school</td>\n",
       "      <td>free/reduced</td>\n",
       "      <td>none</td>\n",
       "      <td>40</td>\n",
       "      <td>59</td>\n",
       "      <td>55</td>\n",
       "      <td>0.513333</td>\n",
       "    </tr>\n",
       "    <tr>\n",
       "      <th>5</th>\n",
       "      <td>female</td>\n",
       "      <td>group D</td>\n",
       "      <td>high school</td>\n",
       "      <td>standard</td>\n",
       "      <td>none</td>\n",
       "      <td>63</td>\n",
       "      <td>77</td>\n",
       "      <td>76</td>\n",
       "      <td>0.720000</td>\n",
       "    </tr>\n",
       "    <tr>\n",
       "      <th>6</th>\n",
       "      <td>female</td>\n",
       "      <td>group A</td>\n",
       "      <td>bachelor's degree</td>\n",
       "      <td>standard</td>\n",
       "      <td>none</td>\n",
       "      <td>62</td>\n",
       "      <td>59</td>\n",
       "      <td>63</td>\n",
       "      <td>0.613333</td>\n",
       "    </tr>\n",
       "    <tr>\n",
       "      <th>11</th>\n",
       "      <td>female</td>\n",
       "      <td>group D</td>\n",
       "      <td>high school</td>\n",
       "      <td>standard</td>\n",
       "      <td>completed</td>\n",
       "      <td>80</td>\n",
       "      <td>87</td>\n",
       "      <td>90</td>\n",
       "      <td>0.856667</td>\n",
       "    </tr>\n",
       "    <tr>\n",
       "      <th>17</th>\n",
       "      <td>female</td>\n",
       "      <td>group C</td>\n",
       "      <td>associate's degree</td>\n",
       "      <td>standard</td>\n",
       "      <td>completed</td>\n",
       "      <td>54</td>\n",
       "      <td>62</td>\n",
       "      <td>65</td>\n",
       "      <td>0.603333</td>\n",
       "    </tr>\n",
       "    <tr>\n",
       "      <th>...</th>\n",
       "      <td>...</td>\n",
       "      <td>...</td>\n",
       "      <td>...</td>\n",
       "      <td>...</td>\n",
       "      <td>...</td>\n",
       "      <td>...</td>\n",
       "      <td>...</td>\n",
       "      <td>...</td>\n",
       "      <td>...</td>\n",
       "    </tr>\n",
       "    <tr>\n",
       "      <th>988</th>\n",
       "      <td>female</td>\n",
       "      <td>group B</td>\n",
       "      <td>some college</td>\n",
       "      <td>standard</td>\n",
       "      <td>none</td>\n",
       "      <td>75</td>\n",
       "      <td>76</td>\n",
       "      <td>81</td>\n",
       "      <td>0.773333</td>\n",
       "    </tr>\n",
       "    <tr>\n",
       "      <th>991</th>\n",
       "      <td>female</td>\n",
       "      <td>group C</td>\n",
       "      <td>associate's degree</td>\n",
       "      <td>standard</td>\n",
       "      <td>none</td>\n",
       "      <td>87</td>\n",
       "      <td>93</td>\n",
       "      <td>88</td>\n",
       "      <td>0.893333</td>\n",
       "    </tr>\n",
       "    <tr>\n",
       "      <th>993</th>\n",
       "      <td>female</td>\n",
       "      <td>group A</td>\n",
       "      <td>associate's degree</td>\n",
       "      <td>standard</td>\n",
       "      <td>none</td>\n",
       "      <td>58</td>\n",
       "      <td>54</td>\n",
       "      <td>58</td>\n",
       "      <td>0.566667</td>\n",
       "    </tr>\n",
       "    <tr>\n",
       "      <th>997</th>\n",
       "      <td>female</td>\n",
       "      <td>group C</td>\n",
       "      <td>some high school</td>\n",
       "      <td>free/reduced</td>\n",
       "      <td>none</td>\n",
       "      <td>32</td>\n",
       "      <td>35</td>\n",
       "      <td>41</td>\n",
       "      <td>0.360000</td>\n",
       "    </tr>\n",
       "    <tr>\n",
       "      <th>998</th>\n",
       "      <td>female</td>\n",
       "      <td>group C</td>\n",
       "      <td>some college</td>\n",
       "      <td>standard</td>\n",
       "      <td>none</td>\n",
       "      <td>73</td>\n",
       "      <td>74</td>\n",
       "      <td>82</td>\n",
       "      <td>0.763333</td>\n",
       "    </tr>\n",
       "  </tbody>\n",
       "</table>\n",
       "<p>483 rows × 9 columns</p>\n",
       "</div>"
      ],
      "text/plain": [
       "     gender race/ethnicity parental level of education         lunch  \\\n",
       "1    female        group D            some high school  free/reduced   \n",
       "5    female        group D                 high school      standard   \n",
       "6    female        group A           bachelor's degree      standard   \n",
       "11   female        group D                 high school      standard   \n",
       "17   female        group C          associate's degree      standard   \n",
       "..      ...            ...                         ...           ...   \n",
       "988  female        group B                some college      standard   \n",
       "991  female        group C          associate's degree      standard   \n",
       "993  female        group A          associate's degree      standard   \n",
       "997  female        group C            some high school  free/reduced   \n",
       "998  female        group C                some college      standard   \n",
       "\n",
       "    test preparation course  math score  reading score  writing score  \\\n",
       "1                      none          40             59             55   \n",
       "5                      none          63             77             76   \n",
       "6                      none          62             59             63   \n",
       "11                completed          80             87             90   \n",
       "17                completed          54             62             65   \n",
       "..                      ...         ...            ...            ...   \n",
       "988                    none          75             76             81   \n",
       "991                    none          87             93             88   \n",
       "993                    none          58             54             58   \n",
       "997                    none          32             35             41   \n",
       "998                    none          73             74             82   \n",
       "\n",
       "       Qscore  \n",
       "1    0.513333  \n",
       "5    0.720000  \n",
       "6    0.613333  \n",
       "11   0.856667  \n",
       "17   0.603333  \n",
       "..        ...  \n",
       "988  0.773333  \n",
       "991  0.893333  \n",
       "993  0.566667  \n",
       "997  0.360000  \n",
       "998  0.763333  \n",
       "\n",
       "[483 rows x 9 columns]"
      ]
     },
     "execution_count": 4,
     "metadata": {},
     "output_type": "execute_result"
    }
   ],
   "source": [
    "Exams"
   ]
  },
  {
   "cell_type": "markdown",
   "id": "7f2b95bd",
   "metadata": {},
   "source": [
    "### Fit the distribution\n",
    "\n",
    "We try to fit the qualification score by a beta distribution\n",
    "\n",
    "Because the maximum of Qscore is 1.0, we fix loc = 0 and scale = 1+1e-8 (slightly larger than 1.0) to avoid error"
   ]
  },
  {
   "cell_type": "code",
   "execution_count": 5,
   "id": "8c374975",
   "metadata": {},
   "outputs": [],
   "source": [
    "import scipy.integrate as integrate\n",
    "from scipy.stats import uniform, beta\n",
    "Qscore = Exams['Qscore']\n",
    "a, b, loc, scale = beta.fit(Qscore, floc = 0 ,fscale = 1+1e-8)"
   ]
  },
  {
   "cell_type": "code",
   "execution_count": 6,
   "id": "b639b384",
   "metadata": {},
   "outputs": [
    {
     "data": {
      "text/plain": [
       "(4.149196473806914, 1.7897438509912498, 0, 1.00000001)"
      ]
     },
     "execution_count": 6,
     "metadata": {},
     "output_type": "execute_result"
    }
   ],
   "source": [
    "a,b,loc,scale"
   ]
  },
  {
   "cell_type": "code",
   "execution_count": 7,
   "id": "144bc196",
   "metadata": {
    "scrolled": false
   },
   "outputs": [
    {
     "data": {
      "image/png": "[encoded data removed]",
      "text/plain": [
       "<Figure size 700x500 with 1 Axes>"
      ]
     },
     "metadata": {},
     "output_type": "display_data"
    }
   ],
   "source": [
    "# Visualize the distribution\n",
    "x = np.linspace(0,1,1000)\n",
    "plt.figure(figsize = (7,5))\n",
    "plt.plot(x, beta.pdf(x, a, b, loc, scale),\n",
    "       'r-', lw=3, alpha=0.6, label = 'fitted')\n",
    "plt.hist(Qscore, label = 'actual score',density=True)\n",
    "plt.title('qualification score distribution')\n",
    "plt.xlabel('Score', fontsize = 12)\n",
    "plt.xticks(fontsize = 12)\n",
    "plt.yticks(fontsize = 12)\n",
    "plt.legend()\n",
    "plt.savefig('score_exam_female.pdf')"
   ]
  },
  {
   "cell_type": "markdown",
   "id": "d7d229fd",
   "metadata": {},
   "source": [
    "###  Decision Maker to incentivize improvement"
   ]
  },
  {
   "cell_type": "code",
   "execution_count": 8,
   "id": "f1052c41",
   "metadata": {},
   "outputs": [],
   "source": [
    "threshold = 0.316364\n",
    "def compute_decision_benefit_strategic(r, theta):\n",
    "    # lower bound for improvement to begin\n",
    "    if theta == 0 or theta == 1:\n",
    "        xstar = theta\n",
    "    else:\n",
    "        xstar = (1 + (1/theta**(2)-1) * np.exp(2*threshold/np.log(1+r)))**(-0.5)\n",
    "\n",
    "    result = integrate.quad(lambda x: (theta-x)*beta.pdf(x,a,b,loc,scale), xstar, theta)[0]\n",
    "    return result\n",
    "\n",
    "def maximize_one_decision_benefit_strategic(r):\n",
    "    theta = np.linspace(0.0001,1,10000)\n",
    "    myFn = np.vectorize(compute_decision_benefit_strategic, excluded=['r'])\n",
    "    benefit = myFn(r,theta)\n",
    "    df = pd.DataFrame({'theta':theta, 'benefit':benefit})\n",
    "    max_benefit = df.max()['benefit']\n",
    "    max_theta = df[df['benefit'] == max_benefit]['theta'].item()\n",
    "    min_improve = (1 + (1/max_theta**(2)-1) * np.exp(2*threshold/np.log(1+r)))**(-0.5)\n",
    "    max_percentage = 1-beta.cdf(min_improve,a,b,loc,scale)\n",
    "    print('Strategic threshold is %f and the max benefit is %f' %(max_theta, max_benefit))\n",
    "    print('Finally, qualified population percentage will be: %.2f%%' % (100*max_percentage))\n",
    "#     return max_theta, max_benefit"
   ]
  },
  {
   "cell_type": "code",
   "execution_count": 31,
   "id": "7460709a",
   "metadata": {},
   "outputs": [
    {
     "name": "stdout",
     "output_type": "stream",
     "text": [
      "Strategic threshold is 0.873600 and the max benefit is 0.141997\n",
      "Finally, qualified population percentage will be: 87.17%\n"
     ]
    }
   ],
   "source": [
    "maximize_one_decision_benefit_strategic(0.3)"
   ]
  },
  {
   "cell_type": "markdown",
   "id": "d0b2863a",
   "metadata": {},
   "source": [
    "**This means when considering improvement, the decision maker can have both higher threshold and higher maximum utility**"
   ]
  },
  {
   "cell_type": "markdown",
   "id": "e0123c28",
   "metadata": {},
   "source": [
    "### Varying r and ploting:\n",
    "\n",
    "1. the optimal strategic threshold\n",
    "\n",
    "2. the total improvement amount\n",
    "\n",
    "It is reasonable to varying r from 0 to 0.3 to see the threshold change"
   ]
  },
  {
   "cell_type": "code",
   "execution_count": 9,
   "id": "d4426763",
   "metadata": {},
   "outputs": [],
   "source": [
    "def produce_threshold_dataframe(r_list, maximize_func):\n",
    "    best_threshold = {'r':[],'optimal theta':[],'qualified percentage':[],'optimal utility':[]}\n",
    "    for r in r_list:\n",
    "        theta = np.linspace(0.0001,1,10000)\n",
    "        benefit = maximize_func(r,theta)\n",
    "        df = pd.DataFrame({'theta':theta, 'benefit':benefit})\n",
    "        max_benefit = df.max()['benefit']\n",
    "        max_theta = df[df['benefit'] == max_benefit]['theta'].item()\n",
    "        min_improve = (1 + (1/max_theta**(2)-1) * np.exp(2*threshold/np.log(1+r)))**(-0.5)\n",
    "        max_percentage = 1-beta.cdf(min_improve,a,b,loc,scale)\n",
    "        best_threshold['r'].append(r)\n",
    "        best_threshold['optimal theta'].append(max_theta)\n",
    "        best_threshold['qualified percentage'].append(np.round(100*max_percentage, 4))\n",
    "        best_threshold['optimal utility'].append(max_benefit)\n",
    "    return pd.DataFrame(best_threshold)"
   ]
  },
  {
   "cell_type": "code",
   "execution_count": 10,
   "id": "d7ca3552",
   "metadata": {},
   "outputs": [],
   "source": [
    "r_list = np.linspace(0,0.3,7)\n",
    "r_list = r_list[1:]\n",
    "maximize_func = np.vectorize(compute_decision_benefit_strategic, excluded=['r'])\n",
    "exam_res = produce_threshold_dataframe(r_list, maximize_func)"
   ]
  },
  {
   "cell_type": "code",
   "execution_count": 11,
   "id": "9e262807",
   "metadata": {},
   "outputs": [
    {
     "data": {
      "text/html": [
       "<div>\n",
       "<style scoped>\n",
       "    .dataframe tbody tr th:only-of-type {\n",
       "        vertical-align: middle;\n",
       "    }\n",
       "\n",
       "    .dataframe tbody tr th {\n",
       "        vertical-align: top;\n",
       "    }\n",
       "\n",
       "    .dataframe thead th {\n",
       "        text-align: right;\n",
       "    }\n",
       "</style>\n",
       "<table border=\"1\" class=\"dataframe\">\n",
       "  <thead>\n",
       "    <tr style=\"text-align: right;\">\n",
       "      <th></th>\n",
       "      <th>r</th>\n",
       "      <th>optimal theta</th>\n",
       "      <th>qualified percentage</th>\n",
       "      <th>optimal utility</th>\n",
       "    </tr>\n",
       "  </thead>\n",
       "  <tbody>\n",
       "    <tr>\n",
       "      <th>0</th>\n",
       "      <td>0.05</td>\n",
       "      <td>0.9998</td>\n",
       "      <td>99.9916</td>\n",
       "      <td>0.301078</td>\n",
       "    </tr>\n",
       "    <tr>\n",
       "      <th>1</th>\n",
       "      <td>0.10</td>\n",
       "      <td>0.9887</td>\n",
       "      <td>99.2339</td>\n",
       "      <td>0.283918</td>\n",
       "    </tr>\n",
       "    <tr>\n",
       "      <th>2</th>\n",
       "      <td>0.15</td>\n",
       "      <td>0.9603</td>\n",
       "      <td>96.7004</td>\n",
       "      <td>0.239202</td>\n",
       "    </tr>\n",
       "    <tr>\n",
       "      <th>3</th>\n",
       "      <td>0.20</td>\n",
       "      <td>0.9292</td>\n",
       "      <td>93.3283</td>\n",
       "      <td>0.191821</td>\n",
       "    </tr>\n",
       "    <tr>\n",
       "      <th>4</th>\n",
       "      <td>0.25</td>\n",
       "      <td>0.9019</td>\n",
       "      <td>90.0360</td>\n",
       "      <td>0.153262</td>\n",
       "    </tr>\n",
       "    <tr>\n",
       "      <th>5</th>\n",
       "      <td>0.30</td>\n",
       "      <td>0.8795</td>\n",
       "      <td>87.1091</td>\n",
       "      <td>0.124109</td>\n",
       "    </tr>\n",
       "  </tbody>\n",
       "</table>\n",
       "</div>"
      ],
      "text/plain": [
       "      r  optimal theta  qualified percentage  optimal utility\n",
       "0  0.05         0.9998               99.9916         0.301078\n",
       "1  0.10         0.9887               99.2339         0.283918\n",
       "2  0.15         0.9603               96.7004         0.239202\n",
       "3  0.20         0.9292               93.3283         0.191821\n",
       "4  0.25         0.9019               90.0360         0.153262\n",
       "5  0.30         0.8795               87.1091         0.124109"
      ]
     },
     "execution_count": 11,
     "metadata": {},
     "output_type": "execute_result"
    }
   ],
   "source": [
    "exam_res.to_csv('exam_female.csv')\n",
    "exam_res"
   ]
  },
  {
   "cell_type": "code",
   "execution_count": 11,
   "id": "4a8e97f9",
   "metadata": {},
   "outputs": [
    {
     "data": {
      "image/png": "[encoded data removed]",
      "text/plain": [
       "<Figure size 300x250 with 1 Axes>"
      ]
     },
     "metadata": {},
     "output_type": "display_data"
    }
   ],
   "source": [
    "import matplotlib\n",
    "matplotlib.rcParams.update({'font.size': 20.7})\n",
    "fig, axes = plt.subplots(1, 1, figsize = (3,2.5))\n",
    "plt.tight_layout\n",
    "plt.plot(exam_res['r'], exam_res['optimal theta'], marker='o', label = r'$\\theta^*$')\n",
    "plt.plot(exam_res['r'], exam_res['optimal utility'], marker = 's', label = 'total improvement')\n",
    "plt.xlabel('r')\n",
    "plt.ylabel('Threshold (or improvement)')\n",
    "plt.legend()\n",
    "plt.tight_layout()\n",
    "fig.savefig('threshold_exam_female.pdf')"
   ]
  },
  {
   "cell_type": "markdown",
   "id": "2674bd55",
   "metadata": {},
   "source": [
    "### Plot the percentage of population who manipulates under the strategic optimal threshold"
   ]
  },
  {
   "cell_type": "code",
   "execution_count": 12,
   "id": "2f27c097",
   "metadata": {},
   "outputs": [],
   "source": [
    "def get_manipulation_percentage(theta_list, r_list, prob = [0.1,0.2,0.3,0.4,0.5]):\n",
    "    final_res = {}\n",
    "    violate = False\n",
    "    for p in prob:\n",
    "        manip_res = {'r':[],'optimal theta':[],'manipulation percentage':[]}\n",
    "        for i in range(len(theta_list)):\n",
    "            theta = theta_list[i]\n",
    "            r = r_list[i]\n",
    "            x = np.linspace(0,theta,1000)\n",
    "            A = -np.log(np.sqrt((1/theta**2-1)/(1/x**2-1)))*np.log(1+r)\n",
    "            T = -np.log(np.sqrt((1/theta**2-1)/(1/x**2-1)))/np.log(2)\n",
    "            manip_res['r'].append(np.round(r,2))\n",
    "            manip_res['optimal theta'].append(np.round(theta,2))\n",
    "            y1 = (1-p) * 1/(1+r)**T - (theta - x)\n",
    "            y2 = np.zeros(1000)\n",
    "            i = 0\n",
    "            for A_value in A:\n",
    "                func = lambda tau: -np.exp(-A_value/tau) + np.exp(tau) - 1\n",
    "                res = scipy.optimize.minimize_scalar(func, bounds= [0,1], method='bounded')\n",
    "                y2[i] = max(-func(res.x),0)\n",
    "                i += 1\n",
    "            df = pd.DataFrame({'x0': x, 'net': y1-y2})\n",
    "            if(len(df[df['net'] >= 0]) == 0):\n",
    "                manip_res['manipulation percentage'].append(0)\n",
    "            else:\n",
    "                target_df = df[df['net']>0]\n",
    "                i = 0\n",
    "                percentage = 0\n",
    "                left = target_df.iloc[0]['x0'] \n",
    "                while i < len(target_df):\n",
    "                    if i == len(target_df) - 1 or target_df.iloc[i+1]['x0'] - target_df.iloc[i]['x0'] > theta/900:\n",
    "                        right = target_df.iloc[i]['x0']\n",
    "                        percentage += (beta.cdf(right,a,b,loc,scale) - beta.cdf(left,a,b,loc,scale))/(beta.cdf(theta,a,b,loc,scale))\n",
    "                        if i != len(target_df) - 1:\n",
    "                            violate = True\n",
    "                            left = target_df.iloc[i+1]['x0']\n",
    "                    i += 1\n",
    "                manip_res['manipulation percentage'].append(np.round(100*percentage,4))\n",
    "        if p not in final_res.keys():\n",
    "            final_res[p] = manip_res\n",
    "        if violate == True:\n",
    "            print('theta = %f does not exceed theta bar' %(theta))\n",
    "    return final_res\n"
   ]
  },
  {
   "cell_type": "code",
   "execution_count": 13,
   "id": "08c278d2",
   "metadata": {},
   "outputs": [],
   "source": [
    "theta_list = exam_res['optimal theta']\n",
    "r_list = exam_res['r']\n",
    "manip_result = get_manipulation_percentage(theta_list, r_list, prob = [0.1,0.3,0.4,0.6])"
   ]
  },
  {
   "cell_type": "code",
   "execution_count": 16,
   "id": "24645c51",
   "metadata": {},
   "outputs": [
    {
     "data": {
      "image/png": "[encoded data removed]",
      "text/plain": [
       "<Figure size 300x250 with 1 Axes>"
      ]
     },
     "metadata": {},
     "output_type": "display_data"
    }
   ],
   "source": [
    "plt.figure(figsize=(3,2.5))\n",
    "plt.tight_layout()\n",
    "prob = [0.1,0.3,0.4,0.6]\n",
    "color = ['#1f77b4', '#ff7f0e', '#046a38', '#d62728', '#9467bd']\n",
    "i = 0\n",
    "for p in prob:\n",
    "    target1 = manip_result[p]\n",
    "    plt.plot(target1['r'], target1['manipulation percentage'], marker='o', label = 'p = %.2f'%p, color = color[i])\n",
    "    plt.xlabel(r'$r$')\n",
    "    plt.ylabel('Percentage(%)')\n",
    "    plt.legend()\n",
    "    i += 1\n",
    "plt.tight_layout()\n",
    "plt.savefig('manipulation_percent_exam_female.pdf')"
   ]
  }
 ],
 "metadata": {
  "kernelspec": {
   "display_name": "Python 3 (ipykernel)",
   "language": "python",
   "name": "python3"
  },
  "language_info": {
   "codemirror_mode": {
    "name": "ipython",
    "version": 3
   },
   "file_extension": ".py",
   "mimetype": "text/x-python",
   "name": "python",
   "nbconvert_exporter": "python",
   "pygments_lexer": "ipython3",
   "version": "3.9.13"
  }
 },
 "nbformat": 4,
 "nbformat_minor": 5
}
